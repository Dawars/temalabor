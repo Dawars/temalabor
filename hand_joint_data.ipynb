{
 "cells": [
  {
   "cell_type": "code",
   "execution_count": 1,
   "metadata": {},
   "outputs": [],
   "source": [
    "import os\n",
    "from PIL import Image\n",
    "import cv2"
   ]
  },
  {
   "cell_type": "code",
   "execution_count": 2,
   "metadata": {},
   "outputs": [],
   "source": [
    "import numpy as np\n",
    "import matplotlib.pyplot as plt\n",
    "plt.rcParams[\"figure.figsize\"] = (40,6) # set diagram size\n",
    "import matplotlib.image as mpimg"
   ]
  },
  {
   "cell_type": "code",
   "execution_count": 3,
   "metadata": {},
   "outputs": [],
   "source": [
    "%matplotlib inline"
   ]
  },
  {
   "cell_type": "code",
   "execution_count": 4,
   "metadata": {},
   "outputs": [],
   "source": [
    "dataset_location = '/home/dawars/datasets/Hand/SyntheticHand/'"
   ]
  },
  {
   "cell_type": "markdown",
   "metadata": {},
   "source": [
    "## Read images"
   ]
  },
  {
   "cell_type": "code",
   "execution_count": 5,
   "metadata": {},
   "outputs": [],
   "source": [
    "dataset = 'Train1'\n",
    "gender = 'female'\n",
    "person = '2'"
   ]
  },
  {
   "cell_type": "code",
   "execution_count": 6,
   "metadata": {},
   "outputs": [
    {
     "name": "stdout",
     "output_type": "stream",
     "text": [
      "/home/dawars/datasets/Hand/SyntheticHand/Train1/female/2\n"
     ]
    }
   ],
   "source": [
    "url = os.path.join(dataset_location, dataset, gender, person)\n",
    "print(url)"
   ]
  },
  {
   "cell_type": "markdown",
   "metadata": {},
   "source": [
    "## Read joint locations"
   ]
  },
  {
   "cell_type": "code",
   "execution_count": 7,
   "metadata": {},
   "outputs": [],
   "source": [
    "joints_list = []\n",
    "with open(os.path.join(url, 'joints.txt')) as joints:\n",
    "    for line in joints:\n",
    "        arr = line.split(' ')\n",
    "        if str(arr[0]) == '-1': continue\n",
    "        joints_list.append(arr)"
   ]
  },
  {
   "cell_type": "code",
   "execution_count": 8,
   "metadata": {},
   "outputs": [],
   "source": [
    "img=cv2.imread(os.path.join(url, 'Depth', '0000002.png'))"
   ]
  },
  {
   "cell_type": "code",
   "execution_count": 9,
   "metadata": {},
   "outputs": [],
   "source": [
    "def show_img(in_img, joints):\n",
    "    image = in_img.copy()\n",
    "    for joint in joints:\n",
    "        v = int(float(joint[4]))\n",
    "        u = int(float(joint[5]))\n",
    "        image[u-2:u+2, v-2:v+2, 0]=255\n",
    "    imgplot = plt.imshow(image)\n"
   ]
  },
  {
   "cell_type": "code",
   "execution_count": 10,
   "metadata": {},
   "outputs": [],
   "source": [
    "def show_img_k(i, joints):\n",
    "    img = cv2.imread(os.path.join(url, 'Depth', '000000'+str(i)+'.png'))\n",
    "    start = 20*(i-1)\n",
    "    end = 20*(i)\n",
    "    print(\"showing points from {} to {}\".format(start, end))\n",
    "    return show_img(img, joints[start:end])"
   ]
  },
  {
   "cell_type": "code",
   "execution_count": 11,
   "metadata": {},
   "outputs": [
    {
     "name": "stdout",
     "output_type": "stream",
     "text": [
      "showing points from 0 to 20\n"
     ]
    },
    {
     "data": {
      "image/png": "[encoded data removed]",
      "text/plain": [
       "<matplotlib.figure.Figure at 0x7f247042eac8>"
      ]
     },
     "metadata": {},
     "output_type": "display_data"
    }
   ],
   "source": [
    "show_img_k(1, joints_list)"
   ]
  },
  {
   "cell_type": "code",
   "execution_count": 12,
   "metadata": {},
   "outputs": [
    {
     "name": "stdout",
     "output_type": "stream",
     "text": [
      "showing points from 20 to 40\n"
     ]
    },
    {
     "data": {
      "image/png": "[encoded data removed]",
      "text/plain": [
       "<matplotlib.figure.Figure at 0x7f246e3e5780>"
      ]
     },
     "metadata": {},
     "output_type": "display_data"
    }
   ],
   "source": [
    "show_img_k(2, joints_list)"
   ]
  },
  {
   "cell_type": "code",
   "execution_count": 13,
   "metadata": {},
   "outputs": [
    {
     "name": "stdout",
     "output_type": "stream",
     "text": [
      "showing points from 40 to 60\n"
     ]
    },
    {
     "data": {
      "image/png": "[encoded data removed]",
      "text/plain": [
       "<matplotlib.figure.Figure at 0x7f24710d3fd0>"
      ]
     },
     "metadata": {},
     "output_type": "display_data"
    }
   ],
   "source": [
    "show_img_k(3, joints_list)"
   ]
  },
  {
   "cell_type": "code",
   "execution_count": 14,
   "metadata": {},
   "outputs": [
    {
     "name": "stdout",
     "output_type": "stream",
     "text": [
      "showing points from 60 to 80\n"
     ]
    },
    {
     "data": {
      "image/png": "[encoded data removed]",
      "text/plain": [
       "<matplotlib.figure.Figure at 0x7f246e4159b0>"
      ]
     },
     "metadata": {},
     "output_type": "display_data"
    }
   ],
   "source": [
    "show_img_k(4, joints_list)"
   ]
  },
  {
   "cell_type": "markdown",
   "metadata": {},
   "source": [
    "## Read training images"
   ]
  },
  {
   "cell_type": "code",
   "execution_count": 15,
   "metadata": {},
   "outputs": [],
   "source": [
    "img_urls = [] # features\n",
    "joints = []   # labels"
   ]
  },
  {
   "cell_type": "code",
   "execution_count": 16,
   "metadata": {},
   "outputs": [],
   "source": [
    "datasets = ['Train1']\n",
    "genders = ['female', 'male', 'new_male']"
   ]
  },
  {
   "cell_type": "code",
   "execution_count": 17,
   "metadata": {},
   "outputs": [],
   "source": [
    "for dataset in datasets:\n",
    "    for gender in genders:\n",
    "        path = os.path.join(dataset_location, dataset, gender)\n",
    "        for person in os.listdir(path):\n",
    "            if int(person) > 10: # reduce dataset size\n",
    "                continue\n",
    "            with open(os.path.join(path, person, 'joints.txt')) as joint_file:\n",
    "                # read joints\n",
    "                joint_list = []\n",
    "                for line in joint_file:\n",
    "                    split = line.split(' ')\n",
    "                    \n",
    "                    if str(split[0]) == '-1': continue # skip finger orientation/angles\n",
    "\n",
    "                    joint_list.append(float(split[4]))\n",
    "                    joint_list.append(float(split[5]))\n",
    "                    \n",
    "                    if split[0] == '19': # if last join in hand\n",
    "                        joints.append(joint_list)\n",
    "                        joint_list = []\n",
    "\n",
    "            depth_path = os.path.join(path, person, 'Depth')\n",
    "            for filename in sorted(os.listdir(depth_path)):\n",
    "\n",
    "                # read file names\n",
    "                img_urls.append(os.path.join(depth_path, filename))\n",
    "            "
   ]
  },
  {
   "cell_type": "code",
   "execution_count": 18,
   "metadata": {},
   "outputs": [
    {
     "data": {
      "text/plain": [
       "35122"
      ]
     },
     "execution_count": 18,
     "metadata": {},
     "output_type": "execute_result"
    }
   ],
   "source": [
    "len(img_urls)"
   ]
  },
  {
   "cell_type": "markdown",
   "metadata": {},
   "source": [
    "### Image urls"
   ]
  },
  {
   "cell_type": "code",
   "execution_count": 19,
   "metadata": {},
   "outputs": [
    {
     "data": {
      "text/plain": [
       "['/home/dawars/datasets/Hand/SyntheticHand/Train1/female/1/Depth/0000001.png',\n",
       " '/home/dawars/datasets/Hand/SyntheticHand/Train1/female/1/Depth/0000002.png',\n",
       " '/home/dawars/datasets/Hand/SyntheticHand/Train1/female/1/Depth/0000003.png',\n",
       " '/home/dawars/datasets/Hand/SyntheticHand/Train1/female/1/Depth/0000004.png',\n",
       " '/home/dawars/datasets/Hand/SyntheticHand/Train1/female/1/Depth/0000005.png',\n",
       " '/home/dawars/datasets/Hand/SyntheticHand/Train1/female/1/Depth/0000006.png',\n",
       " '/home/dawars/datasets/Hand/SyntheticHand/Train1/female/1/Depth/0000007.png',\n",
       " '/home/dawars/datasets/Hand/SyntheticHand/Train1/female/1/Depth/0000008.png',\n",
       " '/home/dawars/datasets/Hand/SyntheticHand/Train1/female/1/Depth/0000009.png',\n",
       " '/home/dawars/datasets/Hand/SyntheticHand/Train1/female/1/Depth/0000010.png']"
      ]
     },
     "execution_count": 19,
     "metadata": {},
     "output_type": "execute_result"
    }
   ],
   "source": [
    "img_urls[:10]"
   ]
  },
  {
   "cell_type": "markdown",
   "metadata": {},
   "source": [
    "### Joints\n",
    "Joint locations corresponding to the first url\n",
    "\n",
    "Format:\n",
    "[x1, y1, x2, y2, ..., x20, y20]"
   ]
  },
  {
   "cell_type": "code",
   "execution_count": 20,
   "metadata": {
    "scrolled": true
   },
   "outputs": [
    {
     "data": {
      "text/plain": [
       "[245.7889404296875,\n",
       " 147.00003051757812,\n",
       " 253.7949981689453,\n",
       " 159.42068481445312,\n",
       " 259.1513671875,\n",
       " 169.52886962890625,\n",
       " 224.83738708496094,\n",
       " 158.62103271484375,\n",
       " 234.92593383789062,\n",
       " 167.94039916992188,\n",
       " 246.81382751464844,\n",
       " 180.07789611816406,\n",
       " 262.8531799316406,\n",
       " 221.11253356933594,\n",
       " 249.0639190673828,\n",
       " 210.65565490722656,\n",
       " 233.0926513671875,\n",
       " 190.93128967285156,\n",
       " 245.00872802734375,\n",
       " 228.2185516357422,\n",
       " 231.49215698242188,\n",
       " 218.5717315673828,\n",
       " 220.73825073242188,\n",
       " 205.8639373779297,\n",
       " 220.16217041015625,\n",
       " 236.32139587402344,\n",
       " 231.94805908203125,\n",
       " 239.57716369628906,\n",
       " 241.1905975341797,\n",
       " 140.869140625,\n",
       " 218.94979858398438,\n",
       " 154.064208984375,\n",
       " 266.596923828125,\n",
       " 223.16183471679688,\n",
       " 246.23883056640625,\n",
       " 226.71600341796875,\n",
       " 219.40432739257812,\n",
       " 232.4386749267578,\n",
       " 283.9532775878906,\n",
       " 226.60496520996094]"
      ]
     },
     "execution_count": 20,
     "metadata": {},
     "output_type": "execute_result"
    }
   ],
   "source": [
    "joints[0]"
   ]
  },
  {
   "cell_type": "markdown",
   "metadata": {},
   "source": [
    "### Loading images\n",
    "\n",
    "Not a good idea to load all at once"
   ]
  },
  {
   "cell_type": "code",
   "execution_count": 21,
   "metadata": {},
   "outputs": [],
   "source": [
    "list_of_imgs = []\n",
    "for img in img_urls:\n",
    "    if not img.endswith(\".png\"):\n",
    "        continue\n",
    "    a = cv2.imread(img)\n",
    "    #print(a.shape) # check the size\n",
    "    if a is None:\n",
    "        print(\"Unable to read image\", img)\n",
    "        continue\n",
    "    list_of_imgs.append(a.flatten())\n",
    "train_data = np.array(list_of_imgs)"
   ]
  },
  {
   "cell_type": "markdown",
   "metadata": {},
   "source": [
    "Making sure the images have the right dimensions"
   ]
  },
  {
   "cell_type": "code",
   "execution_count": 23,
   "metadata": {},
   "outputs": [
    {
     "data": {
      "text/plain": [
       "<matplotlib.image.AxesImage at 0x7f1f1830d278>"
      ]
     },
     "execution_count": 23,
     "metadata": {},
     "output_type": "execute_result"
    },
    {
     "data": {
      "image/png": "[encoded data removed]",
      "text/plain": [
       "<matplotlib.figure.Figure at 0x7f246b8cb748>"
      ]
     },
     "metadata": {},
     "output_type": "display_data"
    }
   ],
   "source": [
    "plt.imshow(train_data[0].reshape(424, 512, 3))"
   ]
  }
 ],
 "metadata": {
  "kernelspec": {
   "display_name": "Python 3",
   "language": "python",
   "name": "python3"
  },
  "language_info": {
   "codemirror_mode": {
    "name": "ipython",
    "version": 3
   },
   "file_extension": ".py",
   "mimetype": "text/x-python",
   "name": "python",
   "nbconvert_exporter": "python",
   "pygments_lexer": "ipython3",
   "version": "3.5.2"
  }
 },
 "nbformat": 4,
 "nbformat_minor": 2
}
